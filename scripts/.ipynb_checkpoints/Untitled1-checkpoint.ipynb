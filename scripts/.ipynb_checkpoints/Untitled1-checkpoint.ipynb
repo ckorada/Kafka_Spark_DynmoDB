{
 "cells": [
  {
   "cell_type": "code",
   "execution_count": 6,
   "id": "3e69a958",
   "metadata": {},
   "outputs": [],
   "source": [
    "import boto3\n",
    "import pandas as pd\n",
    "import matplotlib.pyplot as plt\n",
    "from datetime import datetime\n",
    "from decimal import Decimal"
   ]
  },
  {
   "cell_type": "code",
   "execution_count": 7,
   "id": "475a2316",
   "metadata": {},
   "outputs": [],
   "source": [
    "# Initialize DynamoDB client\n",
    "dynamodb = boto3.resource('dynamodb', region_name='us-east-2')  # Replace with your region\n",
    "table = dynamodb.Table('StockData')  # Replace with your table name"
   ]
  },
  {
   "cell_type": "code",
   "execution_count": 8,
   "id": "027c5068",
   "metadata": {},
   "outputs": [],
   "source": [
    "# Fetch data for a specific topic\n",
    "def fetch_data_by_topic(topic_name):\n",
    "    response = table.scan(\n",
    "        FilterExpression='topic_name = :topic',\n",
    "        ExpressionAttributeValues={':topic': topic_name}\n",
    "    )\n",
    "    return response['Items']"
   ]
  },
  {
   "cell_type": "code",
   "execution_count": 9,
   "id": "b88a144b",
   "metadata": {},
   "outputs": [],
   "source": [
    "# Process data for visualization\n",
    "def process_data(data):\n",
    "    timestamps = []\n",
    "    open_prices = []\n",
    "    close_prices = []\n",
    "    high_prices = []\n",
    "    low_prices = []\n",
    "    volumes = []\n",
    "\n",
    "    for item in data:\n",
    "        timestamps.append(datetime.strptime(item['timestamp'], '%Y-%m-%d'))\n",
    "        open_prices.append(float(item['open_price']))\n",
    "        close_prices.append(float(item['close_price']))\n",
    "        high_prices.append(float(item['high_price']))\n",
    "        low_prices.append(float(item['low_price']))\n",
    "        volumes.append(int(item['volume']))\n",
    "\n",
    "    return timestamps, open_prices, close_prices, high_prices, low_prices, volumes"
   ]
  },
  {
   "cell_type": "code",
   "execution_count": 10,
   "id": "556ddb22",
   "metadata": {},
   "outputs": [],
   "source": [
    "# Visualize data\n",
    "def visualize_data(timestamps, open_prices, close_prices, high_prices, low_prices, volumes, topic_name):\n",
    "    plt.figure(figsize=(14, 8))\n",
    "\n",
    "    # Plot open and close prices\n",
    "    plt.plot(timestamps, open_prices, label='Open Price', marker='o')\n",
    "    plt.plot(timestamps, close_prices, label='Close Price', marker='x')\n",
    "\n",
    "    # Highlight high and low prices\n",
    "    plt.fill_between(timestamps, low_prices, high_prices, color='gray', alpha=0.2, label='High-Low Range')\n",
    "\n",
    "    # Set title and labels\n",
    "    plt.title(f'Trend Analysis for Topic: {topic_name}', fontsize=16)\n",
    "    plt.xlabel('Date', fontsize=14)\n",
    "    plt.ylabel('Price', fontsize=14)\n",
    "    plt.legend(fontsize=12)\n",
    "    plt.grid()\n",
    "\n",
    "    plt.tight_layout()\n",
    "    plt.show()"
   ]
  },
  {
   "cell_type": "code",
   "execution_count": 16,
   "id": "694270ab",
   "metadata": {},
   "outputs": [
    {
     "ename": "NameError",
     "evalue": "name 'pd' is not defined",
     "output_type": "error",
     "traceback": [
      "\u001b[0;31m---------------------------------------------------------------------------\u001b[0m",
      "\u001b[0;31mNameError\u001b[0m                                 Traceback (most recent call last)",
      "Cell \u001b[0;32mIn[16], line 1\u001b[0m\n\u001b[0;32m----> 1\u001b[0m apple_data \u001b[38;5;241m=\u001b[39m pd\u001b[38;5;241m.\u001b[39mDataFrame(fetch_data_by_topic(\u001b[38;5;124m'\u001b[39m\u001b[38;5;124mapple_stock_data\u001b[39m\u001b[38;5;124m'\u001b[39m))\n",
      "\u001b[0;31mNameError\u001b[0m: name 'pd' is not defined"
     ]
    }
   ],
   "source": [
    "apple_data = pd.DataFrame(fetch_data_by_topic('apple_stock_data'))"
   ]
  },
  {
   "cell_type": "code",
   "execution_count": 15,
   "id": "9e6fb1d5",
   "metadata": {},
   "outputs": [],
   "source": [
    "twitter_data = fetch_data_by_topic('twitter_stock_data')"
   ]
  },
  {
   "cell_type": "code",
   "execution_count": null,
   "id": "9e474f72",
   "metadata": {},
   "outputs": [],
   "source": []
  }
 ],
 "metadata": {
  "kernelspec": {
   "display_name": "Python 3 (ipykernel)",
   "language": "python",
   "name": "python3"
  },
  "language_info": {
   "codemirror_mode": {
    "name": "ipython",
    "version": 3
   },
   "file_extension": ".py",
   "mimetype": "text/x-python",
   "name": "python",
   "nbconvert_exporter": "python",
   "pygments_lexer": "ipython3",
   "version": "3.11.5"
  }
 },
 "nbformat": 4,
 "nbformat_minor": 5
}
